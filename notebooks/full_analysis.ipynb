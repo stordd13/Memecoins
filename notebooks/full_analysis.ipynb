{
 "cells": [
  {
   "cell_type": "code",
   "execution_count": 8,
   "metadata": {},
   "outputs": [
    {
     "name": "stdout",
     "output_type": "stream",
     "text": [
      "Obtaining file:///Users/brunostordeur/Docs/GitHub/Memecoins/notebooks\n",
      "\n",
      "\u001b[1m[\u001b[0m\u001b[34;49mnotice\u001b[0m\u001b[1;39;49m]\u001b[0m\u001b[39;49m A new release of pip is available: \u001b[0m\u001b[31;49m25.1\u001b[0m\u001b[39;49m -> \u001b[0m\u001b[32;49m25.1.1\u001b[0m\n",
      "\u001b[1m[\u001b[0m\u001b[34;49mnotice\u001b[0m\u001b[1;39;49m]\u001b[0m\u001b[39;49m To update, run: \u001b[0m\u001b[32;49mpip install --upgrade pip\u001b[0m\n",
      "\u001b[31mERROR: file:///Users/brunostordeur/Docs/GitHub/Memecoins/notebooks does not appear to be a Python project: neither 'setup.py' nor 'pyproject.toml' found.\u001b[0m\u001b[31m\n",
      "\u001b[0mNote: you may need to restart the kernel to use updated packages.\n"
     ]
    }
   ],
   "source": [
    "pip install -e ."
   ]
  },
  {
   "cell_type": "code",
   "execution_count": 1,
   "metadata": {},
   "outputs": [
    {
     "name": "stderr",
     "output_type": "stream",
     "text": [
      "Filtering files: 100%|██████████| 4627/4627 [00:02<00:00, 2089.46it/s]"
     ]
    },
    {
     "name": "stdout",
     "output_type": "stream",
     "text": [
      "Number of relevant files: 4383\n"
     ]
    },
    {
     "name": "stderr",
     "output_type": "stream",
     "text": [
      "\n"
     ]
    },
    {
     "data": {
      "application/vnd.jupyter.widget-view+json": {
       "model_id": "8a949df4ded74cd3a153e61e419a8a80",
       "version_major": 2,
       "version_minor": 0
      },
      "text/plain": [
       "  0%|          | 0/4383 [00:00<?, ?it/s]"
      ]
     },
     "metadata": {},
     "output_type": "display_data"
    }
   ],
   "source": [
    "import sys\n",
    "from pathlib import Path\n",
    "\n",
    "# Add the project root to Python path\n",
    "project_root = Path(\"/Users/brunostordeur/Docs/GitHub/Memecoins\")\n",
    "sys.path.append(str(project_root))\n",
    "\n",
    "from src.utils.file_utils import get_relevant_parquet_files\n",
    "import polars as pl\n",
    "from tqdm.notebook import tqdm\n",
    "\n",
    "from src.analysis.metrics import compute_metrics, extract_features, label_performers\n",
    "# Get relevant files\n",
    "history_folder = Path(\"/Users/brunostordeur/Docs/GitHub/Memecoins/data/raw/full_daily_data/history/\")\n",
    "relevant_files = get_relevant_parquet_files(history_folder)\n",
    "\n",
    "# Compute metrics and features for each file\n",
    "results = []\n",
    "for file in tqdm(relevant_files):\n",
    "    symbol = file.stem.replace(\"_daily\", \"\")  # Remove _daily suffix\n",
    "    try:\n",
    "        df = pl.read_parquet(file)\n",
    "        # Get basic metrics\n",
    "        metrics = compute_metrics(df)\n",
    "        # Get additional features\n",
    "        features = extract_features(df)\n",
    "        if metrics and features:\n",
    "            # Combine metrics and features\n",
    "            combined = {**metrics, **features}\n",
    "            combined[\"symbol\"] = symbol\n",
    "            results.append(combined)\n",
    "    except Exception:\n",
    "        continue\n",
    "\n",
    "# Create DataFrame with all results\n",
    "\n",
    "results_df = pl.DataFrame(results)\n",
    "#labeled_df = label_performers(results_df)"
   ]
  },
  {
   "cell_type": "code",
   "execution_count": 2,
   "metadata": {},
   "outputs": [],
   "source": [
    "labeled_df = label_performers(results_df)"
   ]
  },
  {
   "cell_type": "code",
   "execution_count": 4,
   "metadata": {},
   "outputs": [
    {
     "data": {
      "text/html": [
       "<div><style>\n",
       ".dataframe > thead > tr,\n",
       ".dataframe > tbody > tr {\n",
       "  text-align: right;\n",
       "  white-space: pre-wrap;\n",
       "}\n",
       "</style>\n",
       "<small>shape: (4_383, 36)</small><table border=\"1\" class=\"dataframe\"><thead><tr><th>return</th><th>volatility</th><th>max_drawdown</th><th>symbol</th><th>early_return</th><th>early_volatility</th><th>early_sharpe</th><th>early_marketcap_growth</th><th>early_volume_growth</th><th>early_avg_volume</th><th>early_positive_days</th><th>return_30d</th><th>volatility_30d</th><th>sharpe_30d</th><th>max_drawdown_30d</th><th>volume_growth_30d</th><th>marketcap_growth_30d</th><th>return_90d</th><th>volatility_90d</th><th>sharpe_90d</th><th>max_drawdown_90d</th><th>volume_growth_90d</th><th>marketcap_growth_90d</th><th>return_180d</th><th>volatility_180d</th><th>sharpe_180d</th><th>max_drawdown_180d</th><th>volume_growth_180d</th><th>marketcap_growth_180d</th><th>return_365d</th><th>volatility_365d</th><th>sharpe_365d</th><th>max_drawdown_365d</th><th>volume_growth_365d</th><th>marketcap_growth_365d</th><th>performance_label</th></tr><tr><td>f64</td><td>f64</td><td>f64</td><td>str</td><td>f64</td><td>f64</td><td>f64</td><td>f64</td><td>f64</td><td>f64</td><td>i64</td><td>f64</td><td>f64</td><td>f64</td><td>f64</td><td>f64</td><td>f64</td><td>f64</td><td>f64</td><td>f64</td><td>f64</td><td>f64</td><td>f64</td><td>f64</td><td>f64</td><td>f64</td><td>f64</td><td>f64</td><td>f64</td><td>f64</td><td>f64</td><td>f64</td><td>f64</td><td>f64</td><td>f64</td><td>str</td></tr></thead><tbody><tr><td>-1.0</td><td>1.530298</td><td>-1.0</td><td>&quot;lambo-0fcbf0f7-1a8f-470d-ba09-…</td><td>0.287032</td><td>0.06492</td><td>1.943778</td><td>0.0</td><td>2.067588</td><td>5056.286682</td><td>2</td><td>-0.999822</td><td>5.295847</td><td>-0.191356</td><td>-1.0</td><td>-1.0</td><td>0.0</td><td>-0.999822</td><td>3.060094</td><td>-0.107908</td><td>-1.0</td><td>-1.0</td><td>0.0</td><td>-0.999822</td><td>2.164068</td><td>-0.075867</td><td>-1.0</td><td>-1.0</td><td>0.0</td><td>null</td><td>null</td><td>null</td><td>null</td><td>null</td><td>null</td><td>&quot;worst_performer&quot;</td></tr><tr><td>-1.0</td><td>1.155894</td><td>-1.0</td><td>&quot;blove-dapp-token&quot;</td><td>0.10082</td><td>0.048028</td><td>1.0</td><td>0.0</td><td>8.265028</td><td>21133.6144</td><td>1</td><td>-0.909357</td><td>0.256008</td><td>-0.323377</td><td>-0.920753</td><td>10.373137</td><td>0.0</td><td>null</td><td>null</td><td>null</td><td>null</td><td>null</td><td>null</td><td>null</td><td>null</td><td>null</td><td>null</td><td>null</td><td>null</td><td>null</td><td>null</td><td>null</td><td>null</td><td>null</td><td>null</td><td>&quot;worst_performer&quot;</td></tr><tr><td>-1.0</td><td>1.012833</td><td>-1.0</td><td>&quot;baby-neiro&quot;</td><td>0.205247</td><td>0.093342</td><td>1.0</td><td>0.0</td><td>-0.073283</td><td>373307.014024</td><td>1</td><td>-0.999999</td><td>2.666645</td><td>-0.228306</td><td>-1.0</td><td>1.184195</td><td>1.6027e7</td><td>-0.999999</td><td>1.562321</td><td>-0.134407</td><td>-1.0</td><td>-1.0</td><td>5.7031e6</td><td>-0.999999</td><td>1.10663</td><td>-0.094346</td><td>-1.0</td><td>-1.0</td><td>5.7031e6</td><td>null</td><td>null</td><td>null</td><td>null</td><td>null</td><td>null</td><td>&quot;worst_performer&quot;</td></tr><tr><td>-1.0</td><td>0.374586</td><td>-1.0</td><td>&quot;fat-guy&quot;</td><td>-0.007097</td><td>0.003561</td><td>-1.0</td><td>0.0</td><td>0.037603</td><td>707801.46452</td><td>0</td><td>-0.997699</td><td>0.398248</td><td>-0.525995</td><td>-0.998988</td><td>-0.818423</td><td>0.0</td><td>-0.999999</td><td>0.530204</td><td>-0.327374</td><td>-1.0</td><td>-0.999958</td><td>0.0</td><td>-0.999999</td><td>0.386056</td><td>-0.219982</td><td>-1.0</td><td>-0.999984</td><td>0.0</td><td>null</td><td>null</td><td>null</td><td>null</td><td>null</td><td>null</td><td>&quot;worst_performer&quot;</td></tr><tr><td>-0.999991</td><td>0.482484</td><td>-0.999999</td><td>&quot;henlo-2&quot;</td><td>-0.106905</td><td>0.05712</td><td>-1.0</td><td>0.0</td><td>-0.392351</td><td>1.7635e6</td><td>0</td><td>0.150992</td><td>0.221874</td><td>0.022056</td><td>-0.62474</td><td>-0.689893</td><td>2.0729e16</td><td>0.045681</td><td>0.202611</td><td>0.002501</td><td>-0.786118</td><td>-0.709994</td><td>1.8792e16</td><td>null</td><td>null</td><td>null</td><td>null</td><td>null</td><td>null</td><td>null</td><td>null</td><td>null</td><td>null</td><td>null</td><td>null</td><td>&quot;worst_performer&quot;</td></tr><tr><td>&hellip;</td><td>&hellip;</td><td>&hellip;</td><td>&hellip;</td><td>&hellip;</td><td>&hellip;</td><td>&hellip;</td><td>&hellip;</td><td>&hellip;</td><td>&hellip;</td><td>&hellip;</td><td>&hellip;</td><td>&hellip;</td><td>&hellip;</td><td>&hellip;</td><td>&hellip;</td><td>&hellip;</td><td>&hellip;</td><td>&hellip;</td><td>&hellip;</td><td>&hellip;</td><td>&hellip;</td><td>&hellip;</td><td>&hellip;</td><td>&hellip;</td><td>&hellip;</td><td>&hellip;</td><td>&hellip;</td><td>&hellip;</td><td>&hellip;</td><td>&hellip;</td><td>&hellip;</td><td>&hellip;</td><td>&hellip;</td><td>&hellip;</td><td>&hellip;</td></tr><tr><td>124.899324</td><td>0.233902</td><td>-0.943154</td><td>&quot;neiro-3&quot;</td><td>-0.104513</td><td>0.055207</td><td>-1.0</td><td>-0.104536</td><td>-0.467977</td><td>1.9983e6</td><td>0</td><td>13.547838</td><td>0.50127</td><td>0.184197</td><td>-0.881956</td><td>5.327543</td><td>13.365171</td><td>342.360601</td><td>0.393894</td><td>0.166559</td><td>-0.881956</td><td>218.876791</td><td>342.660632</td><td>115.951204</td><td>0.288263</td><td>0.092288</td><td>-0.881956</td><td>24.922843</td><td>116.114311</td><td>null</td><td>null</td><td>null</td><td>null</td><td>null</td><td>null</td><td>&quot;top_performer&quot;</td></tr><tr><td>218.69278</td><td>0.674408</td><td>-0.977971</td><td>&quot;tron-bull&quot;</td><td>0.091527</td><td>0.04379</td><td>1.0</td><td>4.4914e13</td><td>0.087399</td><td>27956.676045</td><td>1</td><td>2268.544977</td><td>2.002778</td><td>0.133046</td><td>-0.924722</td><td>249.84252</td><td>9.3241e16</td><td>1433.199071</td><td>1.152561</td><td>0.070857</td><td>-0.924722</td><td>219.603244</td><td>5.8725e16</td><td>182.250825</td><td>0.81913</td><td>0.035539</td><td>-0.964831</td><td>10.92211</td><td>7.5667e15</td><td>null</td><td>null</td><td>null</td><td>null</td><td>null</td><td>null</td><td>&quot;top_performer&quot;</td></tr><tr><td>292.460615</td><td>0.135769</td><td>-0.417797</td><td>&quot;would&quot;</td><td>0.023713</td><td>0.011706</td><td>1.001077</td><td>1.7439e15</td><td>-0.083166</td><td>218603.803875</td><td>2</td><td>158.529423</td><td>0.246727</td><td>0.708897</td><td>-0.417797</td><td>43.514376</td><td>2.7174e17</td><td>342.851445</td><td>0.179977</td><td>0.364603</td><td>-0.417797</td><td>3.282832</td><td>0.0</td><td>null</td><td>null</td><td>null</td><td>null</td><td>null</td><td>null</td><td>null</td><td>null</td><td>null</td><td>null</td><td>null</td><td>null</td><td>&quot;top_performer&quot;</td></tr><tr><td>437.136468</td><td>0.483946</td><td>-0.682101</td><td>&quot;tronkey&quot;</td><td>1162.001951</td><td>3.529527</td><td>1.0</td><td>3.9521e15</td><td>514.530607</td><td>19180.346806</td><td>1</td><td>398.535649</td><td>1.300076</td><td>0.158893</td><td>-0.666076</td><td>1.578791</td><td>1.3577e15</td><td>452.391813</td><td>0.749137</td><td>0.091747</td><td>-0.682101</td><td>-0.614782</td><td>1.5407e15</td><td>379.00834</td><td>0.532648</td><td>0.062306</td><td>-0.682101</td><td>-0.861798</td><td>1.2914e15</td><td>null</td><td>null</td><td>null</td><td>null</td><td>null</td><td>null</td><td>&quot;top_performer&quot;</td></tr><tr><td>455.450659</td><td>0.516456</td><td>-0.946262</td><td>&quot;maga-trump&quot;</td><td>0.165634</td><td>0.076633</td><td>1.0</td><td>0.0</td><td>0.126532</td><td>87228.039705</td><td>1</td><td>-0.078774</td><td>0.136262</td><td>-0.020764</td><td>-0.525045</td><td>0.562693</td><td>0.0</td><td>-0.341484</td><td>0.129464</td><td>-0.036257</td><td>-0.597222</td><td>-0.402815</td><td>0.0</td><td>-0.501436</td><td>0.173367</td><td>-0.022429</td><td>-0.804146</td><td>-0.978514</td><td>0.0</td><td>null</td><td>null</td><td>null</td><td>null</td><td>null</td><td>null</td><td>&quot;top_performer&quot;</td></tr></tbody></table></div>"
      ],
      "text/plain": [
       "shape: (4_383, 36)\n",
       "┌───────────┬───────────┬───────────┬───────────┬───┬───────────┬───────────┬───────────┬──────────┐\n",
       "│ return    ┆ volatilit ┆ max_drawd ┆ symbol    ┆ … ┆ max_drawd ┆ volume_gr ┆ marketcap ┆ performa │\n",
       "│ ---       ┆ y         ┆ own       ┆ ---       ┆   ┆ own_365d  ┆ owth_365d ┆ _growth_3 ┆ nce_labe │\n",
       "│ f64       ┆ ---       ┆ ---       ┆ str       ┆   ┆ ---       ┆ ---       ┆ 65d       ┆ l        │\n",
       "│           ┆ f64       ┆ f64       ┆           ┆   ┆ f64       ┆ f64       ┆ ---       ┆ ---      │\n",
       "│           ┆           ┆           ┆           ┆   ┆           ┆           ┆ f64       ┆ str      │\n",
       "╞═══════════╪═══════════╪═══════════╪═══════════╪═══╪═══════════╪═══════════╪═══════════╪══════════╡\n",
       "│ -1.0      ┆ 1.530298  ┆ -1.0      ┆ lambo-0fc ┆ … ┆ null      ┆ null      ┆ null      ┆ worst_pe │\n",
       "│           ┆           ┆           ┆ bf0f7-1a8 ┆   ┆           ┆           ┆           ┆ rformer  │\n",
       "│           ┆           ┆           ┆ f-470d-ba ┆   ┆           ┆           ┆           ┆          │\n",
       "│           ┆           ┆           ┆ 09-…      ┆   ┆           ┆           ┆           ┆          │\n",
       "│ -1.0      ┆ 1.155894  ┆ -1.0      ┆ blove-dap ┆ … ┆ null      ┆ null      ┆ null      ┆ worst_pe │\n",
       "│           ┆           ┆           ┆ p-token   ┆   ┆           ┆           ┆           ┆ rformer  │\n",
       "│ -1.0      ┆ 1.012833  ┆ -1.0      ┆ baby-neir ┆ … ┆ null      ┆ null      ┆ null      ┆ worst_pe │\n",
       "│           ┆           ┆           ┆ o         ┆   ┆           ┆           ┆           ┆ rformer  │\n",
       "│ -1.0      ┆ 0.374586  ┆ -1.0      ┆ fat-guy   ┆ … ┆ null      ┆ null      ┆ null      ┆ worst_pe │\n",
       "│           ┆           ┆           ┆           ┆   ┆           ┆           ┆           ┆ rformer  │\n",
       "│ -0.999991 ┆ 0.482484  ┆ -0.999999 ┆ henlo-2   ┆ … ┆ null      ┆ null      ┆ null      ┆ worst_pe │\n",
       "│           ┆           ┆           ┆           ┆   ┆           ┆           ┆           ┆ rformer  │\n",
       "│ …         ┆ …         ┆ …         ┆ …         ┆ … ┆ …         ┆ …         ┆ …         ┆ …        │\n",
       "│ 124.89932 ┆ 0.233902  ┆ -0.943154 ┆ neiro-3   ┆ … ┆ null      ┆ null      ┆ null      ┆ top_perf │\n",
       "│ 4         ┆           ┆           ┆           ┆   ┆           ┆           ┆           ┆ ormer    │\n",
       "│ 218.69278 ┆ 0.674408  ┆ -0.977971 ┆ tron-bull ┆ … ┆ null      ┆ null      ┆ null      ┆ top_perf │\n",
       "│           ┆           ┆           ┆           ┆   ┆           ┆           ┆           ┆ ormer    │\n",
       "│ 292.46061 ┆ 0.135769  ┆ -0.417797 ┆ would     ┆ … ┆ null      ┆ null      ┆ null      ┆ top_perf │\n",
       "│ 5         ┆           ┆           ┆           ┆   ┆           ┆           ┆           ┆ ormer    │\n",
       "│ 437.13646 ┆ 0.483946  ┆ -0.682101 ┆ tronkey   ┆ … ┆ null      ┆ null      ┆ null      ┆ top_perf │\n",
       "│ 8         ┆           ┆           ┆           ┆   ┆           ┆           ┆           ┆ ormer    │\n",
       "│ 455.45065 ┆ 0.516456  ┆ -0.946262 ┆ maga-trum ┆ … ┆ null      ┆ null      ┆ null      ┆ top_perf │\n",
       "│ 9         ┆           ┆           ┆ p         ┆   ┆           ┆           ┆           ┆ ormer    │\n",
       "└───────────┴───────────┴───────────┴───────────┴───┴───────────┴───────────┴───────────┴──────────┘"
      ]
     },
     "execution_count": 4,
     "metadata": {},
     "output_type": "execute_result"
    }
   ],
   "source": [
    "labeled_df"
   ]
  },
  {
   "cell_type": "code",
   "execution_count": null,
   "metadata": {},
   "outputs": [],
   "source": []
  }
 ],
 "metadata": {
  "kernelspec": {
   "display_name": "memecoins",
   "language": "python",
   "name": "python3"
  },
  "language_info": {
   "codemirror_mode": {
    "name": "ipython",
    "version": 3
   },
   "file_extension": ".py",
   "mimetype": "text/x-python",
   "name": "python",
   "nbconvert_exporter": "python",
   "pygments_lexer": "ipython3",
   "version": "3.9.6"
  }
 },
 "nbformat": 4,
 "nbformat_minor": 2
}
